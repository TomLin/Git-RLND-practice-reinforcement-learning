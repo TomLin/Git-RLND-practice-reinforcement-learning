{
 "cells": [
  {
   "cell_type": "markdown",
   "metadata": {},
   "source": [
    "# Classifying Fashion-MNIST\n",
    "\n",
    "Now it's your turn to build and train a neural network. You'll be using the [Fashion-MNIST dataset](https://github.com/zalandoresearch/fashion-mnist), a drop-in replacement for the MNIST dataset. MNIST is actually quite trivial with neural networks where you can easily achieve better than 97% accuracy. Fashion-MNIST is a set of 28x28 greyscale images of clothes. It's more complex than MNIST, so it's a better representation of the actual performance of your network, and a better representation of datasets you'll use in the real world.\n",
    "\n",
    "<img src='assets/fashion-mnist-sprite.png' width=500px>\n",
    "\n",
    "In this notebook, you'll build your own neural network. For the most part, you could just copy and paste the code from Part 3, but you wouldn't be learning. It's important for you to write the code yourself and get it to work. Feel free to consult the previous notebook though as you work through this.\n",
    "\n",
    "First off, let's load the dataset through torchvision."
   ]
  },
  {
   "cell_type": "code",
   "execution_count": 1,
   "metadata": {},
   "outputs": [
    {
     "name": "stdout",
     "output_type": "stream",
     "text": [
      "Downloading http://fashion-mnist.s3-website.eu-central-1.amazonaws.com/train-images-idx3-ubyte.gz\n",
      "Downloading http://fashion-mnist.s3-website.eu-central-1.amazonaws.com/train-labels-idx1-ubyte.gz\n",
      "Downloading http://fashion-mnist.s3-website.eu-central-1.amazonaws.com/t10k-images-idx3-ubyte.gz\n",
      "Downloading http://fashion-mnist.s3-website.eu-central-1.amazonaws.com/t10k-labels-idx1-ubyte.gz\n",
      "Processing...\n",
      "Done!\n"
     ]
    }
   ],
   "source": [
    "import torch\n",
    "from torchvision import datasets, transforms\n",
    "import helper\n",
    "\n",
    "# Define a transform to normalize the data\n",
    "transform = transforms.Compose([transforms.ToTensor(),\n",
    "                                transforms.Normalize((0.5, 0.5, 0.5), (0.5, 0.5, 0.5))])\n",
    "# Download and load the training data\n",
    "trainset = datasets.FashionMNIST('../Deep-Learning-Dataset/F_MNIST_data/', download=True, train=True, transform=transform)\n",
    "trainloader = torch.utils.data.DataLoader(trainset, batch_size=64, shuffle=True)\n",
    "\n",
    "# Download and load the test data\n",
    "testset = datasets.FashionMNIST('../Deep-Learning-Dataset/F_MNIST_data/', download=True, train=False, transform=transform)\n",
    "testloader = torch.utils.data.DataLoader(testset, batch_size=64, shuffle=True)"
   ]
  },
  {
   "cell_type": "markdown",
   "metadata": {},
   "source": [
    "Here we can see one of the images."
   ]
  },
  {
   "cell_type": "code",
   "execution_count": 2,
   "metadata": {},
   "outputs": [
    {
     "data": {
      "image/png": "[encoded data removed]",
      "text/plain": [
       "<Figure size 432x288 with 1 Axes>"
      ]
     },
     "metadata": {},
     "output_type": "display_data"
    }
   ],
   "source": [
    "image, label = next(iter(trainloader))\n",
    "helper.imshow(image[0,:]);"
   ]
  },
  {
   "cell_type": "markdown",
   "metadata": {},
   "source": [
    "With the data loaded, it's time to import the necessary packages."
   ]
  },
  {
   "cell_type": "code",
   "execution_count": 3,
   "metadata": {},
   "outputs": [],
   "source": [
    "%matplotlib inline\n",
    "%config InlineBackend.figure_format = 'retina'\n",
    "\n",
    "import matplotlib.pyplot as plt\n",
    "import numpy as np\n",
    "import time\n",
    "\n",
    "import torch\n",
    "from torch import nn\n",
    "from torch import optim\n",
    "import torch.nn.functional as F\n",
    "from torchvision import datasets, transforms\n",
    "\n",
    "import helper"
   ]
  },
  {
   "cell_type": "markdown",
   "metadata": {},
   "source": [
    "## Building the network\n",
    "\n",
    "Here you should define your network. As with MNIST, each image is 28x28 which is a total of 784 pixels, and there are 10 classes. **You should include at least one hidden layer**. We suggest you use `ReLU` activations for the layers and to return the logits from the forward pass. It's up to you how many layers you add and the size of those layers."
   ]
  },
  {
   "cell_type": "code",
   "execution_count": 24,
   "metadata": {},
   "outputs": [
    {
     "data": {
      "text/plain": [
       "Network(\n",
       "  (fc1): Linear(in_features=784, out_features=512, bias=True)\n",
       "  (fc2): Linear(in_features=512, out_features=256, bias=True)\n",
       "  (fc3): Linear(in_features=256, out_features=128, bias=True)\n",
       "  (logits): Linear(in_features=128, out_features=10, bias=True)\n",
       ")"
      ]
     },
     "execution_count": 24,
     "metadata": {},
     "output_type": "execute_result"
    }
   ],
   "source": [
    "# TODO: Define your network architecture here\n",
    "from collections import OrderedDict\n",
    "input_size = 784\n",
    "hidden_sizes = [512, 256, 128]\n",
    "output_size = 10\n",
    "\n",
    "class Network(nn.Module):\n",
    "    def __init__(self, input_size=input_size, hidden_sizes=hidden_sizes, output_size=output_size):\n",
    "        super(Network, self).__init__()\n",
    "        self.fc1 = nn.Linear(input_size, hidden_sizes[0])\n",
    "        self.fc2 = nn.Linear(hidden_sizes[0], hidden_sizes[1])\n",
    "        self.fc3 = nn.Linear(hidden_sizes[1], hidden_sizes[2])\n",
    "        self.logits = nn.Linear(hidden_sizes[2], output_size)\n",
    "    \n",
    "    def forward(self, tensor):\n",
    "        '''Foward pass a tensor to the network, and return the logits'''\n",
    "        tensor = self.fc1(tensor)\n",
    "        tensor = F.relu(tensor)\n",
    "        tensor = self.fc2(tensor)\n",
    "        tensor = F.relu(tensor)\n",
    "        tensor = self.fc3(tensor)\n",
    "        tensor = F.relu(tensor)\n",
    "        logits = self.logits(tensor)\n",
    "\n",
    "        return logits\n",
    "    \n",
    "model = Network()\n",
    "model"
   ]
  },
  {
   "cell_type": "markdown",
   "metadata": {},
   "source": [
    "# Train the network\n",
    "\n",
    "Now you should create your network and train it. First you'll want to define [the criterion](http://pytorch.org/docs/master/nn.html#loss-functions) ( something like `nn.CrossEntropyLoss`) and [the optimizer](http://pytorch.org/docs/master/optim.html) (typically `optim.SGD` or `optim.Adam`).\n",
    "\n",
    "Then write the training code. Remember the training pass is a fairly straightforward process:\n",
    "\n",
    "* Make a forward pass through the network to get the logits \n",
    "* Use the logits to calculate the loss\n",
    "* Perform a backward pass through the network with `loss.backward()` to calculate the gradients\n",
    "* Take a step with the optimizer to update the weights\n",
    "\n",
    "By adjusting the hyperparameters (hidden units, learning rate, etc), you should be able to get the training loss below 0.4."
   ]
  },
  {
   "cell_type": "code",
   "execution_count": 25,
   "metadata": {},
   "outputs": [],
   "source": [
    "# TODO: Create the network, define the criterion and optimizer\n",
    "criterion = nn.CrossEntropyLoss()\n",
    "optimizer = optim.Adam(model.parameters(), lr=0.01)"
   ]
  },
  {
   "cell_type": "code",
   "execution_count": 26,
   "metadata": {},
   "outputs": [
    {
     "name": "stdout",
     "output_type": "stream",
     "text": [
      "Epoch: 1/3 Loss: 1.0236\n",
      "Epoch: 1/3 Loss: 0.7402\n",
      "Epoch: 1/3 Loss: 0.5144\n",
      "Epoch: 1/3 Loss: 0.9193\n",
      "Epoch: 1/3 Loss: 0.7539\n",
      "Epoch: 1/3 Loss: 0.5634\n",
      "Epoch: 1/3 Loss: 0.7541\n",
      "Epoch: 1/3 Loss: 0.7438\n",
      "Epoch: 1/3 Loss: 0.5309\n",
      "Epoch: 1/3 Loss: 0.9514\n",
      "Epoch: 1/3 Loss: 0.3884\n",
      "Epoch: 1/3 Loss: 0.3848\n",
      "Epoch: 1/3 Loss: 0.5901\n",
      "Epoch: 1/3 Loss: 0.5443\n",
      "Epoch: 1/3 Loss: 0.4935\n",
      "Epoch: 1/3 Loss: 0.3893\n",
      "Epoch: 1/3 Loss: 0.5671\n",
      "Epoch: 1/3 Loss: 0.4811\n",
      "Epoch: 1/3 Loss: 0.4882\n",
      "Epoch: 1/3 Loss: 0.6194\n",
      "Epoch: 1/3 Loss: 0.4192\n",
      "Epoch: 1/3 Loss: 0.3004\n",
      "Epoch: 1/3 Loss: 0.3628\n",
      "Epoch: 2/3 Loss: 0.5991\n",
      "Epoch: 2/3 Loss: 0.5056\n",
      "Epoch: 2/3 Loss: 0.5193\n",
      "Epoch: 2/3 Loss: 0.5504\n",
      "Epoch: 2/3 Loss: 0.3474\n",
      "Epoch: 2/3 Loss: 0.4602\n",
      "Epoch: 2/3 Loss: 0.6430\n",
      "Epoch: 2/3 Loss: 0.3803\n",
      "Epoch: 2/3 Loss: 0.4439\n",
      "Epoch: 2/3 Loss: 0.5618\n",
      "Epoch: 2/3 Loss: 0.4210\n",
      "Epoch: 2/3 Loss: 0.2077\n",
      "Epoch: 2/3 Loss: 0.4669\n",
      "Epoch: 2/3 Loss: 0.7048\n",
      "Epoch: 2/3 Loss: 0.8354\n",
      "Epoch: 2/3 Loss: 0.4120\n",
      "Epoch: 2/3 Loss: 0.4400\n",
      "Epoch: 2/3 Loss: 0.7104\n",
      "Epoch: 2/3 Loss: 0.4141\n",
      "Epoch: 2/3 Loss: 0.5184\n",
      "Epoch: 2/3 Loss: 0.3355\n",
      "Epoch: 2/3 Loss: 0.7835\n",
      "Epoch: 2/3 Loss: 0.4424\n",
      "Epoch: 3/3 Loss: 0.4096\n",
      "Epoch: 3/3 Loss: 0.6206\n",
      "Epoch: 3/3 Loss: 0.4055\n",
      "Epoch: 3/3 Loss: 0.5051\n",
      "Epoch: 3/3 Loss: 0.4896\n",
      "Epoch: 3/3 Loss: 0.4371\n",
      "Epoch: 3/3 Loss: 0.4343\n",
      "Epoch: 3/3 Loss: 0.4579\n",
      "Epoch: 3/3 Loss: 0.3033\n",
      "Epoch: 3/3 Loss: 0.5264\n",
      "Epoch: 3/3 Loss: 0.3161\n",
      "Epoch: 3/3 Loss: 0.4470\n",
      "Epoch: 3/3 Loss: 0.2210\n",
      "Epoch: 3/3 Loss: 0.5404\n",
      "Epoch: 3/3 Loss: 0.2460\n",
      "Epoch: 3/3 Loss: 0.3890\n",
      "Epoch: 3/3 Loss: 0.6140\n",
      "Epoch: 3/3 Loss: 0.6857\n",
      "Epoch: 3/3 Loss: 0.3859\n",
      "Epoch: 3/3 Loss: 0.4043\n",
      "Epoch: 3/3 Loss: 0.7524\n",
      "Epoch: 3/3 Loss: 0.5143\n",
      "Epoch: 3/3 Loss: 0.7342\n"
     ]
    }
   ],
   "source": [
    "# TODO: Train the network here\n",
    "epochs = 3\n",
    "print_every = 40\n",
    "\n",
    "for e in range(epochs):\n",
    "    steps = 0\n",
    "    running_loss = 0\n",
    "    \n",
    "    for images, labels in trainloader:\n",
    "        steps += 1\n",
    "        images.resize_(images.size()[0], 784)\n",
    "        \n",
    "        optimizer.zero_grad() # 重新歸零gradient, 否則gradient會累積\n",
    "        \n",
    "        logits = model.forward(images)\n",
    "        loss = criterion(logits, labels) # 注意到，這裡的label不需要進行one-hot encode轉換\n",
    "        loss.backward() # compute gradients\n",
    "        optimizer.step() # update weights\n",
    "        \n",
    "        running_loss = loss.item() # extract loss value\n",
    "        \n",
    "        if steps % print_every == 0:\n",
    "            print('Epoch: {}/{}'.format(e+1, epochs),\n",
    "                  'Loss: {:.4f}'.format(running_loss))\n",
    "            \n",
    "            running_loss = 0"
   ]
  },
  {
   "cell_type": "code",
   "execution_count": 36,
   "metadata": {},
   "outputs": [
    {
     "data": {
      "image/png": "[encoded data removed]",
      "text/plain": [
       "<Figure size 432x648 with 2 Axes>"
      ]
     },
     "metadata": {
      "image/png": {
       "height": 204,
       "width": 423
      }
     },
     "output_type": "display_data"
    }
   ],
   "source": [
    "# Test out your network!\n",
    "\n",
    "dataiter = iter(testloader)\n",
    "images, labels = dataiter.next()\n",
    "img = images[2]\n",
    "# Convert 2D image to 1D vector\n",
    "img = img.resize_(1, 784)\n",
    "\n",
    "# TODO: Calculate the class probabilities (softmax) for img\n",
    "\n",
    "logits = model.forward(img)\n",
    "ps = F.softmax(logits, dim=1)\n",
    "\n",
    "# Plot the image and probabilities\n",
    "helper.view_classify(img.resize_(1, 28, 28), ps, version='Fashion')"
   ]
  },
  {
   "cell_type": "markdown",
   "metadata": {},
   "source": [
    "Now that your network is trained, you'll want to save it to disk so you can load it later instead of training it again. Obviously, it's impractical to train a network every time you need one. In practice, you'll train it once, save the model, then reload it for further training or making predictions. In the next part, I'll show you how to save and load trained models."
   ]
  }
 ],
 "metadata": {
  "kernelspec": {
   "display_name": "Python 3",
   "language": "python",
   "name": "python3"
  },
  "language_info": {
   "codemirror_mode": {
    "name": "ipython",
    "version": 3
   },
   "file_extension": ".py",
   "mimetype": "text/x-python",
   "name": "python",
   "nbconvert_exporter": "python",
   "pygments_lexer": "ipython3",
   "version": "3.6.5"
  },
  "toc": {
   "base_numbering": 1,
   "nav_menu": {},
   "number_sections": true,
   "sideBar": true,
   "skip_h1_title": false,
   "title_cell": "Table of Contents",
   "title_sidebar": "Contents",
   "toc_cell": false,
   "toc_position": {},
   "toc_section_display": true,
   "toc_window_display": false
  }
 },
 "nbformat": 4,
 "nbformat_minor": 2
}
